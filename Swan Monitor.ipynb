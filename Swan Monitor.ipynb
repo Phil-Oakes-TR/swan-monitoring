{
 "cells": [
  {
   "cell_type": "code",
   "execution_count": 7,
   "metadata": {},
   "outputs": [
    {
     "name": "stdout",
     "output_type": "stream",
     "text": [
      "241 agent folders found\n"
     ]
    }
   ],
   "source": [
    "#Let's import some libraries to handle file operations and FTP\n",
    "\n",
    "import sys\n",
    "import ftplib\n",
    "import datetime\n",
    "import openpyxl\n",
    "\n",
    "location = r'ftp://prod.ftp.sparrow.int.thomsonreuters.com/Filings/Regulatory Intelligence (TRRI)/'\n",
    "\n",
    "#Now log into the Sparrow location and get a file list from the TRRI index\n",
    "\n",
    "#We'll create an empty list called today_folders to contain things that have updated today.\n",
    "\n",
    "#Then we'll work through the list of top-level folders and query the subfolders to find out ones with a date that matches today's date\n",
    "\n",
    "ftp = ftplib.FTP('ftp.swan.int.thomsonreuters.com', 'SWANFTP.PUBLIC', 'XXYO8yb4894TvAkz')\n",
    "ftp.cwd(\"Filings/Regulatory Intelligence (TRRI)\")\n",
    "\n",
    "today_folders = []\n",
    "today = datetime.datetime.today().strftime('%Y-%m-%d')\n",
    "\n",
    "files = ftp.nlst()\n",
    "\n",
    "#files is every top-level agent that is running in Sparrow\n",
    "#print(files)\n",
    "print(str(len(files)) + \" agent folders found\")\n"
   ]
  },
  {
   "cell_type": "markdown",
   "metadata": {},
   "source": [
    "for k in range(0,3):\n",
    "    k_day = datetime.datetime.now() - datetime.timedelta(days=k)\n",
    "    k_day = k_day.strftime('%Y-%m-%d')\n",
    "    print(k_day)"
   ]
  },
  {
   "cell_type": "code",
   "execution_count": 8,
   "metadata": {},
   "outputs": [
    {
     "name": "stdout",
     "output_type": "stream",
     "text": [
      "['ABA_US', 'DTCC', 'ASX', 'SCMALAY', 'BSB', 'DFM', 'BNMALAY', 'SAMA', 'CMEGROUP', 'SEC_REGS', 'SEC_SRO', 'CFTC', 'TRRI_SPARROW', 'PRA', 'BIS', 'OBSI', 'MONTEX', 'LSB', 'MFDA', 'SAFAA', 'LSE', 'SING_LIA', 'MAS_CP', 'MFSA', 'SEC_ENF', 'AIST', 'NCUA', 'FDIC', 'AFSA', 'CISI_PRS', 'FATF', 'CSE', 'EBA', 'OSFI', 'FERC', 'ICI', 'FDF', 'CANBANK', 'FINTRAC1', 'FSB', 'CFTC2', 'FCAC', 'CFPB', 'XETRA', 'TREAS_US', 'FEDREG_SEC', 'EUR-LEX', 'OCC', 'NFA', 'NZMOJ', 'PAYCAN', 'OSFI_GUIDELINES', 'PSR', 'SBCDELAWARE', 'SEC_OCIE', 'SFSA', 'UKFINANCE', 'SECOP', 'TPSEF', 'TURQUOISE', 'UNSC', 'ACCC', 'UOKIK', 'CBB', 'BCSC', 'AFME', 'BCBS', 'ATO', 'CBOE', 'CCFA', 'EC', 'COE', 'ECB', 'DBBANK', 'FHFA', 'EIOPA', 'EUROPARL', 'FSC_AUS', 'IOM_TD', 'ESRB', 'FPAAUS', 'ESMA', 'IAIS', 'IMF_REPORTS', 'IOSCO', 'ABI', 'PAYUK', 'PR_UK', 'FEDREG_AGENCIES', 'PLSA', 'BOE', 'FSCS', 'FTC', 'FCMC', 'TPUK', 'EFR', 'CLHIA', 'FINTRAC2', 'NCA', 'MIAX', 'FCACGUIDE', 'FSCP', 'PRA_LI', 'OSC_BULLETIN', 'FEDRES', 'DGCX', 'CYSEC', 'AFA', 'RBNZ', 'MSRB', 'NSE IFSC', 'PIMFA', 'IIROC', 'EPC', 'BCCC', 'CBA', 'AEQUITAS_NEO_EXCHANGE', 'PAY.UK', 'AFCA', 'LAWCOM', 'RBFIJI', 'OECD', 'CII', 'FFIEC', 'SIPC', 'NZBA', 'LLOYDS_ANNREP', 'FCA2', 'NEX SEF', 'SENAF', 'PAYNET', 'GIFA', 'FINSIA', 'ISSA', 'NFIU', 'CIFO', 'BSA', 'EFAMA', 'ABA AUS', 'NODAL', 'CBI1', 'CBI2', 'CBI3', 'OFSI', 'FINRA_FAQS', 'FINRA', 'CHIX_AUSTRALIA', 'BPI', 'FRC UK', 'CENTRAL BANK OF CYPRUS', 'LCH SA', 'EMMI', 'SASKINSNEWS', 'ERISX', 'FCA3', 'SFO', 'IEX', 'FCA_1', 'GLOBALAFFAIRS', 'CDCC', 'TCH', 'ACRC', 'FCA_2', 'FCA_PRACTITIONER_PANEL', 'FCA_4', 'NFA_INT', 'FRC (AUSTRALIA)', 'FEDRES2', 'FEDRES3', 'WOLFSBERG', 'FIAU', 'FINCEN', 'IIF', 'FSMB', 'FESE', 'US DOJ', 'OFAC', 'EGMONT', 'CATNMS', 'NYDFS1', 'OMIP', 'YIELDBROKER', 'ICMA', 'OMEGA', 'GFXC', 'IBFED', 'CCSF', 'AMAFI', 'IVASS', 'SFC_CH', 'SWAPEX', 'QE', 'AUSTREAS', 'TOC', 'MTS', 'UNEP FI', 'ALCO', 'IIAC', 'SRB', 'SECO', 'BAFIN_B', 'CONSOB', 'CMVM_PT', 'TMX_GROUP', 'TRANSINT', 'ISDA', 'ISLA', 'MEF_IT', 'RBA_2', 'SWIFT', 'ACRA', 'AMF_FR', 'BAFT', 'CBN_NG', 'CSSF', 'FINMA_CH', 'FSCA_ZA', 'RBA', 'NASAA', 'EUROFI', 'QATAREXCHANGE', 'AUSTRALIAN-TAXATION-OFFICE', 'BNMALAY_2', 'CBUAE', 'CBUAE3', 'CBUAE2', 'DICGC', 'EFRAG', 'FEDRESATLANTA', 'FMA_NZ2', 'FMA_NZ1', 'FIA', 'TRADUK', '360T', 'BCTL', 'GMFA', 'LEIROC', 'OSLO BORS', 'DME', 'IFIC', 'ACMF']\n",
      "Empty\n",
      "['ASX', 'SCMALAY', 'BNMALAY', 'SAMA', 'TRRI_SPARROW', 'BIS', 'OBSI', 'LSB', 'SAFAA', 'LSE', 'SING_LIA', 'MAS_CP', 'AIST', 'AFSA', 'CISI_PRS', 'FATF', 'OSFI', 'FERC', 'FDF', 'FCAC', 'XETRA', 'OCC', 'NFA', 'NZMOJ', 'OSFI_GUIDELINES', 'PSR', 'SBCDELAWARE', 'SEC_OCIE', 'SECOP', 'TPSEF', 'TURQUOISE', 'CBB', 'BCBS', 'CBOE', 'CCFA', 'DBBANK', 'FHFA', 'IOM_TD', 'IAIS', 'IOSCO', 'PAYUK', 'PR_UK', 'FSCS', 'FCMC', 'TPUK', 'EFR', 'CLHIA', 'FINTRAC2', 'NCA', 'FCACGUIDE', 'PRA_LI', 'OSC_BULLETIN', 'FEDRES', 'DGCX', 'CYSEC', 'AFA', 'PIMFA', 'EPC', 'BCCC', 'AEQUITAS_NEO_EXCHANGE', 'RBFIJI', 'OECD', 'CII', 'FFIEC', 'SIPC', 'NZBA', 'LLOYDS_ANNREP', 'FCA2', 'NEX SEF', 'SENAF', 'GIFA', 'FINSIA', 'ISSA', 'CIFO', 'BSA', 'ABA AUS', 'NODAL', 'CBI3', 'OFSI', 'CHIX_AUSTRALIA', 'BPI', 'CENTRAL BANK OF CYPRUS', 'LCH SA', 'EMMI', 'SASKINSNEWS', 'ERISX', 'SFO', 'IEX', 'GLOBALAFFAIRS', 'CDCC', 'TCH', 'FCA_2', 'FCA_PRACTITIONER_PANEL', 'FCA_4', 'NFA_INT', 'FRC (AUSTRALIA)', 'FEDRES2', 'FEDRES3', 'WOLFSBERG', 'IIF', 'FESE', 'EGMONT', 'CATNMS', 'OMIP', 'YIELDBROKER', 'OMEGA', 'GFXC', 'IBFED', 'CCSF', 'IVASS', 'SFC_CH', 'SWAPEX', 'MTS', 'ALCO', 'IIAC', 'SRB', 'SECO', 'TMX_GROUP', 'RBA_2', 'SWIFT', 'BAFT', 'FINMA_CH', 'NASAA', 'QATAREXCHANGE', 'AUSTRALIAN-TAXATION-OFFICE', 'BNMALAY_2', 'CBUAE', 'CBUAE3', 'CBUAE2', 'DICGC', 'FEDRESATLANTA', 'FMA_NZ2', 'FIA', 'TRADUK', '360T', 'BCTL', 'GMFA', 'LEIROC', 'OSLO BORS', 'DME', 'IFIC', 'ACMF']\n"
     ]
    }
   ],
   "source": [
    "search_depth = 3\n",
    "#search_depth is number of days to check for updates\n",
    "\n",
    "found_folders = []\n",
    "checked_folders = []\n",
    "empty_folders = []\n",
    "\n",
    "print(files)\n",
    "\n",
    "for f in files:\n",
    "    #this is ignoring every other itme in the list\n",
    "    #print(f)\n",
    "    ftp.cwd(\"/Filings/Regulatory Intelligence (TRRI)/\" + f)\n",
    "    subfolders = ftp.nlst()\n",
    "    f_empty = 1\n",
    "    \n",
    "    for g in subfolders:\n",
    "        for k in range(0,search_depth):\n",
    "            k_day = datetime.datetime.now() - datetime.timedelta(days=k)\n",
    "            k_day = k_day.strftime('%Y-%m-%d')\n",
    "        \n",
    "            checked_folders.append(f + '/' + g + '$' + k_day)\n",
    "            if g.startswith(k_day):\n",
    "                #print(f + '/' + g)\n",
    "                found_folders.append(f + '/' + g)\n",
    "                f_empty = 0\n",
    "    \n",
    "    if f_empty:\n",
    "        empty_folders.append(f)\n",
    "        \n",
    "#print(today_folders)   \n",
    "ftp.close()\n",
    "#print('Checked')\n",
    "#print(checked_folders)\n",
    "print('Empty')\n",
    "print(empty_folders)\n",
    "\n",
    "#print(files)\n",
    "\n",
    "\n"
   ]
  },
  {
   "cell_type": "code",
   "execution_count": 65,
   "metadata": {},
   "outputs": [],
   "source": [
    "#bleh"
   ]
  },
  {
   "cell_type": "code",
   "execution_count": 9,
   "metadata": {},
   "outputs": [],
   "source": [
    "wb = openpyxl.Workbook()\n",
    "\n",
    "ws = wb.active\n",
    "\n",
    "c = ws['A1']\n",
    "c.value='Empty folders'\n",
    "\n",
    "#start with the second row\n",
    "r = 2\n",
    "\n",
    "for e in empty_folders:\n",
    "    d = ws.cell(row=r, column=1)\n",
    "    d.value = e\n",
    "    r = r + 1\n",
    "\n",
    "today = datetime.datetime.today().strftime('%Y-%m-%d')\n",
    "\n",
    "wb.save('Swan Monitoring_' + today + '.xlsx')"
   ]
  },
  {
   "cell_type": "code",
   "execution_count": null,
   "metadata": {},
   "outputs": [],
   "source": []
  }
 ],
 "metadata": {
  "kernelspec": {
   "display_name": "Python 3",
   "language": "python",
   "name": "python3"
  },
  "language_info": {
   "codemirror_mode": {
    "name": "ipython",
    "version": 3
   },
   "file_extension": ".py",
   "mimetype": "text/x-python",
   "name": "python",
   "nbconvert_exporter": "python",
   "pygments_lexer": "ipython3",
   "version": "3.8.0"
  }
 },
 "nbformat": 4,
 "nbformat_minor": 2
}
